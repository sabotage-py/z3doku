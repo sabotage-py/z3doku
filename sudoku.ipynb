{
 "cells": [
  {
   "cell_type": "markdown",
   "id": "6235557d",
   "metadata": {},
   "source": [
    "README: Just run the code blocks sequentially to see the magic. Comments are also there to help you."
   ]
  },
  {
   "cell_type": "code",
   "execution_count": 1,
   "id": "703e60b5",
   "metadata": {},
   "outputs": [],
   "source": [
    "import z3\n",
    "from time import time\n",
    "\n",
    "grid = [\n",
    "    [z3.Int('g{}{}'.format(i, j)) for i in range(9)] \n",
    "    for j in range(9)\n",
    "]\n",
    "\n",
    "# first we represent the usual sudoku rules as z3 constraints \n",
    "sudoku_constraints = []\n",
    "for cell1 in range(81):\n",
    "    r1 = cell1 // 9\n",
    "    c1 = cell1 % 9\n",
    "    # each cell must have a number in [1..9]\n",
    "    sudoku_constraints.append(grid[r1][c1] >= 1)\n",
    "    sudoku_constraints.append(grid[r1][c1] <= 9)\n",
    "    box1 = (3 * (r1 // 3), 3 * (c1 // 3))  \n",
    "    # box1 represents the 3x3 box the cell belongs to\n",
    "    for cell2 in range(cell1+1, 81):\n",
    "        r2 = cell2 // 9\n",
    "        c2 = cell2 % 9\n",
    "        box2 = (3 * (r2 // 3), 3 * (c2 // 3))\n",
    "        if box1 == box2 or r1 == r2 or c1 == c2:\n",
    "            sudoku_constraints.append(grid[r1][c1] != grid[r2][c2])\n",
    "            # if the two cells are in the same box,\n",
    "            # the same row, or the same column,\n",
    "            # then they must not be equal.\n"
   ]
  },
  {
   "cell_type": "code",
   "execution_count": 2,
   "id": "e21ead0a",
   "metadata": {},
   "outputs": [
    {
     "name": "stdout",
     "output_type": "stream",
     "text": [
      "+-------+-------+-------+\n",
      "| _ _ 8 | 5 _ _ | _ 4 _ |\n",
      "| _ 6 _ | _ _ _ | _ 7 3 |\n",
      "| _ _ 4 | _ _ _ | _ 9 2 |\n",
      "+-------+-------+-------+\n",
      "| _ _ 9 | _ _ 1 | _ _ _ |\n",
      "| _ _ 7 | _ 2 _ | _ 1 9 |\n",
      "| 8 _ _ | _ 9 _ | _ _ _ |\n",
      "+-------+-------+-------+\n",
      "| 5 _ _ | 6 3 _ | _ _ _ |\n",
      "| _ _ _ | _ _ 4 | _ 3 _ |\n",
      "| 1 4 _ | _ _ _ | _ _ _ |\n",
      "+-------+-------+-------+\n"
     ]
    }
   ],
   "source": [
    "# get input from a text file\n",
    "with open('sudoku.txt') as file:\n",
    "    input_grid = [list(map(int, list(line[:-1]))) for line in file]\n",
    "\n",
    "# manual input (same as that got from text file)\n",
    "input_grid = [[0, 0, 8, 5, 0, 0, 0, 4, 0], \n",
    "              [0, 6, 0, 0, 0, 0, 0, 7, 3], \n",
    "              [0, 0, 4, 0, 0, 0, 0, 9, 2], \n",
    "              [0, 0, 9, 0, 0, 1, 0, 0, 0], \n",
    "              [0, 0, 7, 0, 2, 0, 0, 1, 9], \n",
    "              [8, 0, 0, 0, 9, 0, 0, 0, 0], \n",
    "              [5, 0, 0, 6, 3, 0, 0, 0, 0], \n",
    "              [0, 0, 0, 0, 0, 4, 0, 3, 0], \n",
    "              [1, 4, 0, 0, 0, 0, 0, 0, 0]]\n",
    "\n",
    "\n",
    "def pretty_print(grid, m=None):\n",
    "    print('+-------'*3 + '+')\n",
    "    for k in range(3):\n",
    "        for i in range(3*k, 3*k+3):\n",
    "            for l in range(3):\n",
    "                print('|', end=' ')\n",
    "                for j in range(3*l, 3*l+3):\n",
    "                    if m:\n",
    "                        print(m[grid[i][j]], end=' ')\n",
    "                    else:\n",
    "                        print(\n",
    "                            grid[i][j] if grid[i][j] else '_', \n",
    "                            end=' '\n",
    "                        )\n",
    "            print('|')\n",
    "        print('+-------'*3 + '+')\n",
    "    return None\n",
    "\n",
    "\n",
    "pretty_print(input_grid)"
   ]
  },
  {
   "cell_type": "code",
   "execution_count": 3,
   "id": "2c24a557",
   "metadata": {},
   "outputs": [],
   "source": [
    "# the numbers already present in the input must match\n",
    "input_constraints = []\n",
    "for i in range(9):\n",
    "    for j in range(9):\n",
    "        if input_grid[i][j] != 0:\n",
    "            input_constraints.append(grid[i][j] == input_grid[i][j])"
   ]
  },
  {
   "cell_type": "code",
   "execution_count": 4,
   "id": "1cddfe96",
   "metadata": {},
   "outputs": [
    {
     "name": "stdout",
     "output_type": "stream",
     "text": [
      "+-------+-------+-------+\n",
      "| 3 9 8 | 5 7 2 | 6 4 1 |\n",
      "| 2 6 1 | 9 4 8 | 5 7 3 |\n",
      "| 7 5 4 | 3 1 6 | 8 9 2 |\n",
      "+-------+-------+-------+\n",
      "| 4 2 9 | 7 6 1 | 3 5 8 |\n",
      "| 6 3 7 | 8 2 5 | 4 1 9 |\n",
      "| 8 1 5 | 4 9 3 | 7 2 6 |\n",
      "+-------+-------+-------+\n",
      "| 5 7 2 | 6 3 9 | 1 8 4 |\n",
      "| 9 8 6 | 1 5 4 | 2 3 7 |\n",
      "| 1 4 3 | 2 8 7 | 9 6 5 |\n",
      "+-------+-------+-------+\n",
      "Time taken by z3: 0.07476019859313965 secs\n"
     ]
    }
   ],
   "source": [
    "# and now we solve\n",
    "solver = z3.Solver()\n",
    "solver.add(sudoku_constraints)  # the general sudoku rules\n",
    "solver.add(input_constraints)  # the grid agrees with the input grid\n",
    "\n",
    "t1 = time()\n",
    "res = solver.check()\n",
    "tf = time()\n",
    "if res == z3.sat:\n",
    "    m = solver.model()\n",
    "    pretty_print(grid, m)\n",
    "else:\n",
    "    print('No solution for this sudoku. :(')\n",
    "    \n",
    "print(f'Time taken by z3: {tf-t1} secs')"
   ]
  },
  {
   "cell_type": "code",
   "execution_count": null,
   "id": "2d505b93",
   "metadata": {},
   "outputs": [],
   "source": []
  }
 ],
 "metadata": {
  "kernelspec": {
   "display_name": "Python 3 (ipykernel)",
   "language": "python",
   "name": "python3"
  },
  "language_info": {
   "codemirror_mode": {
    "name": "ipython",
    "version": 3
   },
   "file_extension": ".py",
   "mimetype": "text/x-python",
   "name": "python",
   "nbconvert_exporter": "python",
   "pygments_lexer": "ipython3",
   "version": "3.10.6"
  },
  "vscode": {
   "interpreter": {
    "hash": "26de051ba29f2982a8de78e945f0abaf191376122a1563185a90213a26c5da77"
   }
  }
 },
 "nbformat": 4,
 "nbformat_minor": 5
}
